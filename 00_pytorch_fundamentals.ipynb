{
  "nbformat": 4,
  "nbformat_minor": 0,
  "metadata": {
    "colab": {
      "provenance": [],
      "gpuType": "T4",
      "authorship_tag": "ABX9TyMEwAUVCGc7OIZ222GXDAJp",
      "include_colab_link": true
    },
    "kernelspec": {
      "name": "python3",
      "display_name": "Python 3"
    },
    "language_info": {
      "name": "python"
    },
    "accelerator": "GPU"
  },
  "cells": [
    {
      "cell_type": "markdown",
      "metadata": {
        "id": "view-in-github",
        "colab_type": "text"
      },
      "source": [
        "<a href=\"https://colab.research.google.com/github/toriqultonu/Learning_PyTorch/blob/main/00_pytorch_fundamentals.ipynb\" target=\"_parent\"><img src=\"https://colab.research.google.com/assets/colab-badge.svg\" alt=\"Open In Colab\"/></a>"
      ]
    },
    {
      "cell_type": "code",
      "execution_count": 1,
      "metadata": {
        "id": "Hh2o7akzUjGE",
        "colab": {
          "base_uri": "https://localhost:8080/"
        },
        "outputId": "47e75dba-174c-458d-d2aa-302c55590b9b"
      },
      "outputs": [
        {
          "output_type": "stream",
          "name": "stdout",
          "text": [
            "Sat Oct 21 06:49:12 2023       \n",
            "+-----------------------------------------------------------------------------+\n",
            "| NVIDIA-SMI 525.105.17   Driver Version: 525.105.17   CUDA Version: 12.0     |\n",
            "|-------------------------------+----------------------+----------------------+\n",
            "| GPU  Name        Persistence-M| Bus-Id        Disp.A | Volatile Uncorr. ECC |\n",
            "| Fan  Temp  Perf  Pwr:Usage/Cap|         Memory-Usage | GPU-Util  Compute M. |\n",
            "|                               |                      |               MIG M. |\n",
            "|===============================+======================+======================|\n",
            "|   0  Tesla T4            Off  | 00000000:00:04.0 Off |                    0 |\n",
            "| N/A   39C    P8    10W /  70W |      0MiB / 15360MiB |      0%      Default |\n",
            "|                               |                      |                  N/A |\n",
            "+-------------------------------+----------------------+----------------------+\n",
            "                                                                               \n",
            "+-----------------------------------------------------------------------------+\n",
            "| Processes:                                                                  |\n",
            "|  GPU   GI   CI        PID   Type   Process name                  GPU Memory |\n",
            "|        ID   ID                                                   Usage      |\n",
            "|=============================================================================|\n",
            "|  No running processes found                                                 |\n",
            "+-----------------------------------------------------------------------------+\n"
          ]
        }
      ],
      "source": [
        "!nvidia-smi"
      ]
    },
    {
      "cell_type": "code",
      "source": [
        "import torch\n",
        "print(torch.__version__)"
      ],
      "metadata": {
        "colab": {
          "base_uri": "https://localhost:8080/"
        },
        "id": "PG4LSxMxW3Eb",
        "outputId": "c24ee04a-998a-46fb-d5b7-e30892955e4b"
      },
      "execution_count": 2,
      "outputs": [
        {
          "output_type": "stream",
          "name": "stdout",
          "text": [
            "2.1.0+cu118\n"
          ]
        }
      ]
    },
    {
      "cell_type": "markdown",
      "source": [
        "## Introduction to Tensors\n",
        "\n",
        "### Creating Tensors"
      ],
      "metadata": {
        "id": "TWocFK67d-Ie"
      }
    },
    {
      "cell_type": "code",
      "source": [
        "random_tensor = torch.rand(2,4,3,4)\n",
        "random_tensor"
      ],
      "metadata": {
        "id": "u1263NNbByN5"
      },
      "execution_count": null,
      "outputs": []
    },
    {
      "cell_type": "code",
      "source": [
        "zeros = torch.zeros(4,3)\n",
        "zeros"
      ],
      "metadata": {
        "colab": {
          "base_uri": "https://localhost:8080/"
        },
        "id": "DmvAEN0nDZCe",
        "outputId": "319a08cf-9741-4ee8-988d-45ef2837b97e"
      },
      "execution_count": 4,
      "outputs": [
        {
          "output_type": "execute_result",
          "data": {
            "text/plain": [
              "tensor([[0., 0., 0.],\n",
              "        [0., 0., 0.],\n",
              "        [0., 0., 0.],\n",
              "        [0., 0., 0.]])"
            ]
          },
          "metadata": {},
          "execution_count": 4
        }
      ]
    },
    {
      "cell_type": "code",
      "source": [
        "ones = torch.ones(3,4)\n",
        "ones"
      ],
      "metadata": {
        "colab": {
          "base_uri": "https://localhost:8080/"
        },
        "id": "ws00ud5HDx5y",
        "outputId": "bdb66510-1aba-47b5-9c5c-0f2ff1b8e6bc"
      },
      "execution_count": 5,
      "outputs": [
        {
          "output_type": "execute_result",
          "data": {
            "text/plain": [
              "tensor([[1., 1., 1., 1.],\n",
              "        [1., 1., 1., 1.],\n",
              "        [1., 1., 1., 1.]])"
            ]
          },
          "metadata": {},
          "execution_count": 5
        }
      ]
    },
    {
      "cell_type": "code",
      "source": [
        "one_to_number = torch.arange(start = 0, end = 1000, step=100)\n",
        "print(one_to_number)\n",
        "\n",
        "ten_zeros = torch.zeros_like(input = one_to_number)\n",
        "ten_zeros"
      ],
      "metadata": {
        "colab": {
          "base_uri": "https://localhost:8080/"
        },
        "id": "1hegKgnRF39t",
        "outputId": "63c723fe-d918-4ede-ed77-1229f5119a4f"
      },
      "execution_count": 6,
      "outputs": [
        {
          "output_type": "stream",
          "name": "stdout",
          "text": [
            "tensor([  0, 100, 200, 300, 400, 500, 600, 700, 800, 900])\n"
          ]
        },
        {
          "output_type": "execute_result",
          "data": {
            "text/plain": [
              "tensor([0, 0, 0, 0, 0, 0, 0, 0, 0, 0])"
            ]
          },
          "metadata": {},
          "execution_count": 6
        }
      ]
    },
    {
      "cell_type": "code",
      "source": [
        "float_32_tensor = torch.tensor([3.5, 6.7, 9.2])\n",
        "print(float_32_tensor)\n",
        "\n",
        "float_16_tensor = float_32_tensor.type(torch.float16)\n",
        "float_16_tensor\n",
        "\n",
        "print(float_16_tensor * float_32_tensor)\n",
        "\n",
        "int_32_tensor = torch.tensor([1,345,6,3], dtype = torch.long)\n",
        "int_32_tensor"
      ],
      "metadata": {
        "colab": {
          "base_uri": "https://localhost:8080/"
        },
        "id": "SJXiwrTzX9bv",
        "outputId": "907f4eec-af5f-4913-bac4-ea05e63e481b"
      },
      "execution_count": 7,
      "outputs": [
        {
          "output_type": "stream",
          "name": "stdout",
          "text": [
            "tensor([3.5000, 6.7000, 9.2000])\n",
            "tensor([12.2500, 44.8848, 84.6687])\n"
          ]
        },
        {
          "output_type": "execute_result",
          "data": {
            "text/plain": [
              "tensor([  1, 345,   6,   3])"
            ]
          },
          "metadata": {},
          "execution_count": 7
        }
      ]
    },
    {
      "cell_type": "code",
      "source": [
        "torch.mul(float_32_tensor, 10)"
      ],
      "metadata": {
        "colab": {
          "base_uri": "https://localhost:8080/"
        },
        "id": "XzpT4mkubmn1",
        "outputId": "bf8afe3c-0a4b-4e9d-9449-be0b46cbfed1"
      },
      "execution_count": 8,
      "outputs": [
        {
          "output_type": "execute_result",
          "data": {
            "text/plain": [
              "tensor([35., 67., 92.])"
            ]
          },
          "metadata": {},
          "execution_count": 8
        }
      ]
    },
    {
      "cell_type": "code",
      "source": [
        "## Element wise multiplicaiton:\n",
        "\n",
        "print(f\"element wise multiplicaiton {torch.tensor([1,2,3]) * torch.tensor([1,2,3])}\")"
      ],
      "metadata": {
        "colab": {
          "base_uri": "https://localhost:8080/"
        },
        "id": "pDVYizq2cGCX",
        "outputId": "ea6e353c-0316-41c5-9914-5c7e691f0176"
      },
      "execution_count": 9,
      "outputs": [
        {
          "output_type": "stream",
          "name": "stdout",
          "text": [
            "element wise multiplicaiton tensor([1, 4, 9])\n"
          ]
        }
      ]
    },
    {
      "cell_type": "code",
      "source": [
        "## Matrix multiplication\n",
        "%%time\n",
        "tensor = torch.rand(3,3,3)\n",
        "print(tensor)\n",
        "torch.matmul(tensor, tensor)"
      ],
      "metadata": {
        "id": "lqffcHjVcIaI"
      },
      "execution_count": null,
      "outputs": []
    },
    {
      "cell_type": "code",
      "source": [
        "print(tensor)\n",
        "print(tensor.T)"
      ],
      "metadata": {
        "id": "Cj8P2JR07ZlV"
      },
      "execution_count": null,
      "outputs": []
    },
    {
      "cell_type": "markdown",
      "source": [
        "### Tensor Aggregation"
      ],
      "metadata": {
        "id": "VVfZmfe97_tt"
      }
    },
    {
      "cell_type": "code",
      "source": [
        "tensor = torch.randint(0, 100, (8,))\n",
        "print(tensor)\n",
        "tensor.float()\n",
        "print(tensor.dtype)\n",
        "torch.argmin(tensor)\n",
        "##torch.mean(tensor.float())"
      ],
      "metadata": {
        "id": "U24GW7m88D1d"
      },
      "execution_count": null,
      "outputs": []
    },
    {
      "cell_type": "code",
      "source": [
        "import torch\n",
        "x = torch.arange(1., 10.)\n",
        "y = torch.rand(2,3)\n",
        "x, x.shape"
      ],
      "metadata": {
        "colab": {
          "base_uri": "https://localhost:8080/"
        },
        "id": "yAznWf0urxbu",
        "outputId": "de698bf3-b785-46e4-da06-c9fae5e44755"
      },
      "execution_count": 1,
      "outputs": [
        {
          "output_type": "execute_result",
          "data": {
            "text/plain": [
              "(tensor([1., 2., 3., 4., 5., 6., 7., 8., 9.]), torch.Size([9]))"
            ]
          },
          "metadata": {},
          "execution_count": 1
        }
      ]
    },
    {
      "cell_type": "code",
      "source": [
        "x_reshaped = x.reshape(3,3)\n",
        "print(x_reshaped)\n",
        "z = x_reshaped.view(1,9)\n",
        "z, x.shape, x_reshaped.shape, z.shape"
      ],
      "metadata": {
        "colab": {
          "base_uri": "https://localhost:8080/"
        },
        "id": "sCQFi0xIsMdt",
        "outputId": "6e2fbe35-a097-4f84-adf4-4fbd182e2e12"
      },
      "execution_count": 6,
      "outputs": [
        {
          "output_type": "stream",
          "name": "stdout",
          "text": [
            "tensor([[1., 2., 3.],\n",
            "        [4., 5., 6.],\n",
            "        [7., 8., 9.]])\n"
          ]
        },
        {
          "output_type": "execute_result",
          "data": {
            "text/plain": [
              "(tensor([[1., 2., 3., 4., 5., 6., 7., 8., 9.]]),\n",
              " torch.Size([9]),\n",
              " torch.Size([3, 3]),\n",
              " torch.Size([1, 9]))"
            ]
          },
          "metadata": {},
          "execution_count": 6
        }
      ]
    },
    {
      "cell_type": "code",
      "source": [
        "## stacking tensor\n",
        "x_stacked1 = torch.stack([y,y,y,y,y,y], dim=2)\n",
        "x_stacked2 = torch.stack([x,x,x,x,x,x], dim=1)\n",
        "x_stacked1, x_stacked2"
      ],
      "metadata": {
        "colab": {
          "base_uri": "https://localhost:8080/"
        },
        "id": "1CT2L_G003T8",
        "outputId": "f92f80bf-0b76-4e4e-e594-d01a11e6eefb"
      },
      "execution_count": 7,
      "outputs": [
        {
          "output_type": "execute_result",
          "data": {
            "text/plain": [
              "(tensor([[[0.2939, 0.2939, 0.2939, 0.2939, 0.2939, 0.2939],\n",
              "          [0.8281, 0.8281, 0.8281, 0.8281, 0.8281, 0.8281],\n",
              "          [0.0936, 0.0936, 0.0936, 0.0936, 0.0936, 0.0936]],\n",
              " \n",
              "         [[0.5713, 0.5713, 0.5713, 0.5713, 0.5713, 0.5713],\n",
              "          [0.0433, 0.0433, 0.0433, 0.0433, 0.0433, 0.0433],\n",
              "          [0.5546, 0.5546, 0.5546, 0.5546, 0.5546, 0.5546]]]),\n",
              " tensor([[1., 1., 1., 1., 1., 1.],\n",
              "         [2., 2., 2., 2., 2., 2.],\n",
              "         [3., 3., 3., 3., 3., 3.],\n",
              "         [4., 4., 4., 4., 4., 4.],\n",
              "         [5., 5., 5., 5., 5., 5.],\n",
              "         [6., 6., 6., 6., 6., 6.],\n",
              "         [7., 7., 7., 7., 7., 7.],\n",
              "         [8., 8., 8., 8., 8., 8.],\n",
              "         [9., 9., 9., 9., 9., 9.]]))"
            ]
          },
          "metadata": {},
          "execution_count": 7
        }
      ]
    },
    {
      "cell_type": "code",
      "source": [
        "import torch\n",
        "\n",
        "# Create a tensor with a singleton dimension\n",
        "x = torch.tensor([[1,3,5]])\n",
        "\n",
        "# Squeeze the tensor to remove the singleton dimension\n",
        "y = torch.squeeze(x)\n",
        "\n",
        "print(x.shape)  # Original shape: (3, 1)\n",
        "print(y.shape)  # Squeezed shape: (3,)\n",
        "y"
      ],
      "metadata": {
        "colab": {
          "base_uri": "https://localhost:8080/"
        },
        "id": "m9kgTh3ZOecB",
        "outputId": "bad54560-632b-47ef-ce65-508bee9ce4f5"
      },
      "execution_count": 13,
      "outputs": [
        {
          "output_type": "stream",
          "name": "stdout",
          "text": [
            "torch.Size([1, 3])\n",
            "torch.Size([3])\n"
          ]
        },
        {
          "output_type": "execute_result",
          "data": {
            "text/plain": [
              "tensor([1, 3, 5])"
            ]
          },
          "metadata": {},
          "execution_count": 13
        }
      ]
    }
  ]
}