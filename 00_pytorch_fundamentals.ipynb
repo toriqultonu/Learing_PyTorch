{
  "nbformat": 4,
  "nbformat_minor": 0,
  "metadata": {
    "colab": {
      "provenance": [],
      "gpuType": "T4",
      "authorship_tag": "ABX9TyNGGHtSp4lrgI4Row7F7Ypb",
      "include_colab_link": true
    },
    "kernelspec": {
      "name": "python3",
      "display_name": "Python 3"
    },
    "language_info": {
      "name": "python"
    },
    "accelerator": "GPU"
  },
  "cells": [
    {
      "cell_type": "markdown",
      "metadata": {
        "id": "view-in-github",
        "colab_type": "text"
      },
      "source": [
        "<a href=\"https://colab.research.google.com/github/toriqultonu/Learning_PyTorch/blob/main/00_pytorch_fundamentals.ipynb\" target=\"_parent\"><img src=\"https://colab.research.google.com/assets/colab-badge.svg\" alt=\"Open In Colab\"/></a>"
      ]
    },
    {
      "cell_type": "code",
      "execution_count": 1,
      "metadata": {
        "id": "Hh2o7akzUjGE",
        "colab": {
          "base_uri": "https://localhost:8080/"
        },
        "outputId": "691548d1-9c49-4d8c-ac9b-dd1b2abda47c"
      },
      "outputs": [
        {
          "output_type": "stream",
          "name": "stdout",
          "text": [
            "Sun Oct 22 11:15:38 2023       \n",
            "+-----------------------------------------------------------------------------+\n",
            "| NVIDIA-SMI 525.105.17   Driver Version: 525.105.17   CUDA Version: 12.0     |\n",
            "|-------------------------------+----------------------+----------------------+\n",
            "| GPU  Name        Persistence-M| Bus-Id        Disp.A | Volatile Uncorr. ECC |\n",
            "| Fan  Temp  Perf  Pwr:Usage/Cap|         Memory-Usage | GPU-Util  Compute M. |\n",
            "|                               |                      |               MIG M. |\n",
            "|===============================+======================+======================|\n",
            "|   0  Tesla T4            Off  | 00000000:00:04.0 Off |                    0 |\n",
            "| N/A   50C    P8     9W /  70W |      0MiB / 15360MiB |      0%      Default |\n",
            "|                               |                      |                  N/A |\n",
            "+-------------------------------+----------------------+----------------------+\n",
            "                                                                               \n",
            "+-----------------------------------------------------------------------------+\n",
            "| Processes:                                                                  |\n",
            "|  GPU   GI   CI        PID   Type   Process name                  GPU Memory |\n",
            "|        ID   ID                                                   Usage      |\n",
            "|=============================================================================|\n",
            "|  No running processes found                                                 |\n",
            "+-----------------------------------------------------------------------------+\n"
          ]
        }
      ],
      "source": [
        "!nvidia-smi"
      ]
    },
    {
      "cell_type": "code",
      "source": [
        "import torch\n",
        "print(torch.__version__)"
      ],
      "metadata": {
        "colab": {
          "base_uri": "https://localhost:8080/"
        },
        "id": "PG4LSxMxW3Eb",
        "outputId": "3947d7e9-74e2-406d-dff2-d89bd7ba47b3"
      },
      "execution_count": 2,
      "outputs": [
        {
          "output_type": "stream",
          "name": "stdout",
          "text": [
            "2.1.0+cu118\n"
          ]
        }
      ]
    },
    {
      "cell_type": "markdown",
      "source": [
        "## Introduction to Tensors\n",
        "\n",
        "### Creating Tensors"
      ],
      "metadata": {
        "id": "TWocFK67d-Ie"
      }
    },
    {
      "cell_type": "code",
      "source": [
        "random_tensor = torch.rand(2,4,3,4)\n",
        "random_tensor"
      ],
      "metadata": {
        "id": "u1263NNbByN5",
        "colab": {
          "base_uri": "https://localhost:8080/"
        },
        "outputId": "1d686733-c9c3-4cca-aa20-4f5b3a4301f9"
      },
      "execution_count": 3,
      "outputs": [
        {
          "output_type": "execute_result",
          "data": {
            "text/plain": [
              "tensor([[[[0.9868, 0.9047, 0.4761, 0.2940],\n",
              "          [0.4903, 0.8109, 0.5604, 0.2255],\n",
              "          [0.7024, 0.7991, 0.6390, 0.1744]],\n",
              "\n",
              "         [[0.2480, 0.2006, 0.7385, 0.5801],\n",
              "          [0.2503, 0.0399, 0.1913, 0.8084],\n",
              "          [0.4135, 0.4840, 0.3333, 0.2026]],\n",
              "\n",
              "         [[0.7608, 0.9249, 0.4319, 0.6887],\n",
              "          [0.5412, 0.9124, 0.5889, 0.3920],\n",
              "          [0.4934, 0.9340, 0.1753, 0.5405]],\n",
              "\n",
              "         [[0.3775, 0.2630, 0.0947, 0.4566],\n",
              "          [0.1516, 0.3972, 0.0840, 0.9290],\n",
              "          [0.6541, 0.1781, 0.7742, 0.8378]]],\n",
              "\n",
              "\n",
              "        [[[0.7975, 0.9263, 0.3728, 0.4705],\n",
              "          [0.8620, 0.7835, 0.7365, 0.3987],\n",
              "          [0.6647, 0.3368, 0.4207, 0.0476]],\n",
              "\n",
              "         [[0.2107, 0.4458, 0.2058, 0.9672],\n",
              "          [0.6025, 0.3162, 0.4129, 0.7173],\n",
              "          [0.4328, 0.0445, 0.7478, 0.3385]],\n",
              "\n",
              "         [[0.4662, 0.4345, 0.3651, 0.8863],\n",
              "          [0.5560, 0.4727, 0.9488, 0.8962],\n",
              "          [0.9944, 0.1253, 0.3082, 0.0054]],\n",
              "\n",
              "         [[0.8346, 0.3071, 0.2269, 0.5008],\n",
              "          [0.6567, 0.9400, 0.8729, 0.5256],\n",
              "          [0.2829, 0.3547, 0.6506, 0.0613]]]])"
            ]
          },
          "metadata": {},
          "execution_count": 3
        }
      ]
    },
    {
      "cell_type": "code",
      "source": [
        "zeros = torch.zeros(4,3)\n",
        "zeros"
      ],
      "metadata": {
        "colab": {
          "base_uri": "https://localhost:8080/"
        },
        "id": "DmvAEN0nDZCe",
        "outputId": "a31df8c6-707a-4181-9f26-12fa59e5dd93"
      },
      "execution_count": 4,
      "outputs": [
        {
          "output_type": "execute_result",
          "data": {
            "text/plain": [
              "tensor([[0., 0., 0.],\n",
              "        [0., 0., 0.],\n",
              "        [0., 0., 0.],\n",
              "        [0., 0., 0.]])"
            ]
          },
          "metadata": {},
          "execution_count": 4
        }
      ]
    },
    {
      "cell_type": "code",
      "source": [
        "ones = torch.ones(3,4)\n",
        "ones"
      ],
      "metadata": {
        "colab": {
          "base_uri": "https://localhost:8080/"
        },
        "id": "ws00ud5HDx5y",
        "outputId": "adecffc6-ed1a-4bca-ed0e-8492f61884ec"
      },
      "execution_count": 5,
      "outputs": [
        {
          "output_type": "execute_result",
          "data": {
            "text/plain": [
              "tensor([[1., 1., 1., 1.],\n",
              "        [1., 1., 1., 1.],\n",
              "        [1., 1., 1., 1.]])"
            ]
          },
          "metadata": {},
          "execution_count": 5
        }
      ]
    },
    {
      "cell_type": "code",
      "source": [
        "one_to_number = torch.arange(start = 0, end = 1000, step=100)\n",
        "print(one_to_number)\n",
        "\n",
        "ten_zeros = torch.zeros_like(input = one_to_number)\n",
        "ten_zeros"
      ],
      "metadata": {
        "colab": {
          "base_uri": "https://localhost:8080/"
        },
        "id": "1hegKgnRF39t",
        "outputId": "d0d53085-22c2-4dea-ffb9-d8f0ce73e06c"
      },
      "execution_count": 6,
      "outputs": [
        {
          "output_type": "stream",
          "name": "stdout",
          "text": [
            "tensor([  0, 100, 200, 300, 400, 500, 600, 700, 800, 900])\n"
          ]
        },
        {
          "output_type": "execute_result",
          "data": {
            "text/plain": [
              "tensor([0, 0, 0, 0, 0, 0, 0, 0, 0, 0])"
            ]
          },
          "metadata": {},
          "execution_count": 6
        }
      ]
    },
    {
      "cell_type": "code",
      "source": [
        "float_32_tensor = torch.tensor([3.5, 6.7, 9.2])\n",
        "print(float_32_tensor)\n",
        "\n",
        "float_16_tensor = float_32_tensor.type(torch.float16)\n",
        "float_16_tensor\n",
        "\n",
        "print(float_16_tensor * float_32_tensor)\n",
        "\n",
        "int_32_tensor = torch.tensor([1,345,6,3], dtype = torch.long)\n",
        "int_32_tensor"
      ],
      "metadata": {
        "colab": {
          "base_uri": "https://localhost:8080/"
        },
        "id": "SJXiwrTzX9bv",
        "outputId": "62ba4ad0-bddd-4976-bf2c-fe51b9de4af5"
      },
      "execution_count": 7,
      "outputs": [
        {
          "output_type": "stream",
          "name": "stdout",
          "text": [
            "tensor([3.5000, 6.7000, 9.2000])\n",
            "tensor([12.2500, 44.8848, 84.6687])\n"
          ]
        },
        {
          "output_type": "execute_result",
          "data": {
            "text/plain": [
              "tensor([  1, 345,   6,   3])"
            ]
          },
          "metadata": {},
          "execution_count": 7
        }
      ]
    },
    {
      "cell_type": "code",
      "source": [
        "torch.mul(float_32_tensor, 10)"
      ],
      "metadata": {
        "colab": {
          "base_uri": "https://localhost:8080/"
        },
        "id": "XzpT4mkubmn1",
        "outputId": "e2adeac5-0454-421c-eee7-7af852d04772"
      },
      "execution_count": 8,
      "outputs": [
        {
          "output_type": "execute_result",
          "data": {
            "text/plain": [
              "tensor([35., 67., 92.])"
            ]
          },
          "metadata": {},
          "execution_count": 8
        }
      ]
    },
    {
      "cell_type": "code",
      "source": [
        "## Element wise multiplicaiton:\n",
        "\n",
        "print(f\"element wise multiplicaiton {torch.tensor([1,2,3]) * torch.tensor([1,2,3])}\")"
      ],
      "metadata": {
        "colab": {
          "base_uri": "https://localhost:8080/"
        },
        "id": "pDVYizq2cGCX",
        "outputId": "d13ce03f-75b2-4dfa-b9a7-c08f7e94a3e4"
      },
      "execution_count": 9,
      "outputs": [
        {
          "output_type": "stream",
          "name": "stdout",
          "text": [
            "element wise multiplicaiton tensor([1, 4, 9])\n"
          ]
        }
      ]
    },
    {
      "cell_type": "code",
      "source": [
        "## Matrix multiplication\n",
        "%%time\n",
        "tensor = torch.rand(3,3,3)\n",
        "print(tensor)\n",
        "torch.matmul(tensor, tensor)"
      ],
      "metadata": {
        "id": "lqffcHjVcIaI",
        "colab": {
          "base_uri": "https://localhost:8080/"
        },
        "outputId": "dcdeb398-77de-40d1-c286-4d18c1cad4ba"
      },
      "execution_count": 10,
      "outputs": [
        {
          "output_type": "stream",
          "name": "stdout",
          "text": [
            "tensor([[[0.8530, 0.1389, 0.2121],\n",
            "         [0.8242, 0.9934, 0.6498],\n",
            "         [0.2854, 0.9060, 0.0303]],\n",
            "\n",
            "        [[0.5374, 0.5849, 0.4641],\n",
            "         [0.9065, 0.9462, 0.8365],\n",
            "         [0.8870, 0.2727, 0.7811]],\n",
            "\n",
            "        [[0.7910, 0.6927, 0.7039],\n",
            "         [0.1743, 0.4278, 0.3671],\n",
            "         [0.0010, 0.0351, 0.3163]]])\n",
            "CPU times: user 2.7 ms, sys: 1.15 ms, total: 3.86 ms\n",
            "Wall time: 6.89 ms\n"
          ]
        },
        {
          "output_type": "execute_result",
          "data": {
            "text/plain": [
              "tensor([[[0.9026, 0.4486, 0.2776],\n",
              "         [1.7073, 1.6901, 0.8401],\n",
              "         [0.9989, 0.9672, 0.6501]],\n",
              "\n",
              "        [[1.2307, 0.9943, 1.1012],\n",
              "         [2.0869, 1.6536, 1.8656],\n",
              "         [1.4167, 0.9898, 1.2498]],\n",
              "\n",
              "        [[0.7471, 0.8689, 1.0337],\n",
              "         [0.2128, 0.3166, 0.3958],\n",
              "         [0.0072, 0.0268, 0.1136]]])"
            ]
          },
          "metadata": {},
          "execution_count": 10
        }
      ]
    },
    {
      "cell_type": "code",
      "source": [
        "print(tensor)\n",
        "print(tensor.T)"
      ],
      "metadata": {
        "id": "Cj8P2JR07ZlV",
        "colab": {
          "base_uri": "https://localhost:8080/"
        },
        "outputId": "9cd6e722-c740-4914-d7ce-136cb124e361"
      },
      "execution_count": 11,
      "outputs": [
        {
          "output_type": "stream",
          "name": "stdout",
          "text": [
            "tensor([[[0.8530, 0.1389, 0.2121],\n",
            "         [0.8242, 0.9934, 0.6498],\n",
            "         [0.2854, 0.9060, 0.0303]],\n",
            "\n",
            "        [[0.5374, 0.5849, 0.4641],\n",
            "         [0.9065, 0.9462, 0.8365],\n",
            "         [0.8870, 0.2727, 0.7811]],\n",
            "\n",
            "        [[0.7910, 0.6927, 0.7039],\n",
            "         [0.1743, 0.4278, 0.3671],\n",
            "         [0.0010, 0.0351, 0.3163]]])\n",
            "tensor([[[0.8530, 0.5374, 0.7910],\n",
            "         [0.8242, 0.9065, 0.1743],\n",
            "         [0.2854, 0.8870, 0.0010]],\n",
            "\n",
            "        [[0.1389, 0.5849, 0.6927],\n",
            "         [0.9934, 0.9462, 0.4278],\n",
            "         [0.9060, 0.2727, 0.0351]],\n",
            "\n",
            "        [[0.2121, 0.4641, 0.7039],\n",
            "         [0.6498, 0.8365, 0.3671],\n",
            "         [0.0303, 0.7811, 0.3163]]])\n"
          ]
        },
        {
          "output_type": "stream",
          "name": "stderr",
          "text": [
            "<ipython-input-11-840264599016>:2: UserWarning: The use of `x.T` on tensors of dimension other than 2 to reverse their shape is deprecated and it will throw an error in a future release. Consider `x.mT` to transpose batches of matrices or `x.permute(*torch.arange(x.ndim - 1, -1, -1))` to reverse the dimensions of a tensor. (Triggered internally at ../aten/src/ATen/native/TensorShape.cpp:3614.)\n",
            "  print(tensor.T)\n"
          ]
        }
      ]
    },
    {
      "cell_type": "markdown",
      "source": [
        "### Tensor Aggregation"
      ],
      "metadata": {
        "id": "VVfZmfe97_tt"
      }
    },
    {
      "cell_type": "code",
      "source": [
        "tensor = torch.randint(0, 100, (8,))\n",
        "print(tensor)\n",
        "tensor.float()\n",
        "print(tensor.dtype)\n",
        "torch.argmin(tensor)\n",
        "##torch.mean(tensor.float())"
      ],
      "metadata": {
        "id": "U24GW7m88D1d",
        "colab": {
          "base_uri": "https://localhost:8080/"
        },
        "outputId": "b4ea6976-7837-41a5-f387-338d4ee5860b"
      },
      "execution_count": 12,
      "outputs": [
        {
          "output_type": "stream",
          "name": "stdout",
          "text": [
            "tensor([57, 65, 61, 50, 61, 47, 69,  6])\n",
            "torch.int64\n"
          ]
        },
        {
          "output_type": "execute_result",
          "data": {
            "text/plain": [
              "tensor(7)"
            ]
          },
          "metadata": {},
          "execution_count": 12
        }
      ]
    },
    {
      "cell_type": "code",
      "source": [
        "import torch\n",
        "x = torch.arange(1., 10.)\n",
        "y = torch.rand(2,3)\n",
        "x, x.shape"
      ],
      "metadata": {
        "colab": {
          "base_uri": "https://localhost:8080/"
        },
        "id": "yAznWf0urxbu",
        "outputId": "3a978188-d887-4cc3-fb65-c00068d15461"
      },
      "execution_count": 13,
      "outputs": [
        {
          "output_type": "execute_result",
          "data": {
            "text/plain": [
              "(tensor([1., 2., 3., 4., 5., 6., 7., 8., 9.]), torch.Size([9]))"
            ]
          },
          "metadata": {},
          "execution_count": 13
        }
      ]
    },
    {
      "cell_type": "code",
      "source": [
        "x_reshaped = x.reshape(3,3)\n",
        "print(x_reshaped)\n",
        "z = x_reshaped.view(1,9)\n",
        "z, x.shape, x_reshaped.shape, z.shape"
      ],
      "metadata": {
        "colab": {
          "base_uri": "https://localhost:8080/"
        },
        "id": "sCQFi0xIsMdt",
        "outputId": "781981a7-13b8-467e-b7a4-beef87b1c796"
      },
      "execution_count": 14,
      "outputs": [
        {
          "output_type": "stream",
          "name": "stdout",
          "text": [
            "tensor([[1., 2., 3.],\n",
            "        [4., 5., 6.],\n",
            "        [7., 8., 9.]])\n"
          ]
        },
        {
          "output_type": "execute_result",
          "data": {
            "text/plain": [
              "(tensor([[1., 2., 3., 4., 5., 6., 7., 8., 9.]]),\n",
              " torch.Size([9]),\n",
              " torch.Size([3, 3]),\n",
              " torch.Size([1, 9]))"
            ]
          },
          "metadata": {},
          "execution_count": 14
        }
      ]
    },
    {
      "cell_type": "code",
      "source": [
        "## stacking tensor\n",
        "x_stacked1 = torch.stack([y,y,y,y,y,y], dim=2)\n",
        "x_stacked2 = torch.stack([x,x,x,x,x,x], dim=1)\n",
        "x_stacked1, x_stacked2"
      ],
      "metadata": {
        "colab": {
          "base_uri": "https://localhost:8080/"
        },
        "id": "1CT2L_G003T8",
        "outputId": "16d81c8b-cc1e-4208-e2d0-afa680e0f131"
      },
      "execution_count": 15,
      "outputs": [
        {
          "output_type": "execute_result",
          "data": {
            "text/plain": [
              "(tensor([[[0.3890, 0.3890, 0.3890, 0.3890, 0.3890, 0.3890],\n",
              "          [0.2566, 0.2566, 0.2566, 0.2566, 0.2566, 0.2566],\n",
              "          [0.1028, 0.1028, 0.1028, 0.1028, 0.1028, 0.1028]],\n",
              " \n",
              "         [[0.5840, 0.5840, 0.5840, 0.5840, 0.5840, 0.5840],\n",
              "          [0.1360, 0.1360, 0.1360, 0.1360, 0.1360, 0.1360],\n",
              "          [0.1345, 0.1345, 0.1345, 0.1345, 0.1345, 0.1345]]]),\n",
              " tensor([[1., 1., 1., 1., 1., 1.],\n",
              "         [2., 2., 2., 2., 2., 2.],\n",
              "         [3., 3., 3., 3., 3., 3.],\n",
              "         [4., 4., 4., 4., 4., 4.],\n",
              "         [5., 5., 5., 5., 5., 5.],\n",
              "         [6., 6., 6., 6., 6., 6.],\n",
              "         [7., 7., 7., 7., 7., 7.],\n",
              "         [8., 8., 8., 8., 8., 8.],\n",
              "         [9., 9., 9., 9., 9., 9.]]))"
            ]
          },
          "metadata": {},
          "execution_count": 15
        }
      ]
    },
    {
      "cell_type": "code",
      "source": [
        "import torch\n",
        "\n",
        "# Create a tensor with a singleton dimension\n",
        "x = torch.tensor([[1,3,5]])\n",
        "\n",
        "# Squeeze the tensor to remove the singleton dimension\n",
        "y = torch.squeeze(x)\n",
        "\n",
        "print(x.shape)  # Original shape: (3, 1)\n",
        "print(y.shape)  # Squeezed shape: (3,)\n",
        "y"
      ],
      "metadata": {
        "colab": {
          "base_uri": "https://localhost:8080/"
        },
        "id": "m9kgTh3ZOecB",
        "outputId": "fd306823-0eca-473c-d550-c5639c540427"
      },
      "execution_count": 16,
      "outputs": [
        {
          "output_type": "stream",
          "name": "stdout",
          "text": [
            "torch.Size([1, 3])\n",
            "torch.Size([3])\n"
          ]
        },
        {
          "output_type": "execute_result",
          "data": {
            "text/plain": [
              "tensor([1, 3, 5])"
            ]
          },
          "metadata": {},
          "execution_count": 16
        }
      ]
    },
    {
      "cell_type": "code",
      "source": [
        "z = y.unsqueeze(dim=1)\n",
        "z.shape"
      ],
      "metadata": {
        "colab": {
          "base_uri": "https://localhost:8080/"
        },
        "id": "Dbq0QuwHGTeM",
        "outputId": "86bd7b7a-ea16-4cb5-bf3c-fed5ff40472e"
      },
      "execution_count": 21,
      "outputs": [
        {
          "output_type": "execute_result",
          "data": {
            "text/plain": [
              "torch.Size([3, 1])"
            ]
          },
          "metadata": {},
          "execution_count": 21
        }
      ]
    },
    {
      "cell_type": "code",
      "source": [
        "x = torch.randn(2,3,5);\n",
        "y = torch.permute(x,(2,0,1))\n",
        "x, y"
      ],
      "metadata": {
        "colab": {
          "base_uri": "https://localhost:8080/"
        },
        "id": "ClW4WPYaHrnW",
        "outputId": "3d83bd5e-d65f-4574-b126-c8f1642de5ef"
      },
      "execution_count": 23,
      "outputs": [
        {
          "output_type": "execute_result",
          "data": {
            "text/plain": [
              "(tensor([[[ 0.4551, -0.8082,  0.0542,  0.1967, -0.1777],\n",
              "          [-1.0545, -1.1442, -0.8540, -0.2823, -2.0665],\n",
              "          [ 1.2644, -0.9647,  1.6327, -0.0268, -0.3928]],\n",
              " \n",
              "         [[-0.6240,  0.2350, -1.3711,  0.2733, -2.4156],\n",
              "          [ 0.0696, -0.3790,  0.4543,  0.9560, -1.5150],\n",
              "          [ 1.4256, -0.9252, -1.8322,  0.0532, -0.1417]]]),\n",
              " tensor([[[ 0.4551, -1.0545,  1.2644],\n",
              "          [-0.6240,  0.0696,  1.4256]],\n",
              " \n",
              "         [[-0.8082, -1.1442, -0.9647],\n",
              "          [ 0.2350, -0.3790, -0.9252]],\n",
              " \n",
              "         [[ 0.0542, -0.8540,  1.6327],\n",
              "          [-1.3711,  0.4543, -1.8322]],\n",
              " \n",
              "         [[ 0.1967, -0.2823, -0.0268],\n",
              "          [ 0.2733,  0.9560,  0.0532]],\n",
              " \n",
              "         [[-0.1777, -2.0665, -0.3928],\n",
              "          [-2.4156, -1.5150, -0.1417]]]))"
            ]
          },
          "metadata": {},
          "execution_count": 23
        }
      ]
    },
    {
      "cell_type": "code",
      "source": [
        "## Numpy array to tensor\n",
        "import torch\n",
        "import numpy as np\n",
        "\n",
        "array = np.arange(1.0, 8.0)\n",
        "tensor = torch.from_numpy(array)\n",
        "\n",
        "array, tensor"
      ],
      "metadata": {
        "colab": {
          "base_uri": "https://localhost:8080/"
        },
        "id": "V0didfzTeKrW",
        "outputId": "c34d1ac2-2c14-4633-dccb-e60b3d6d1220"
      },
      "execution_count": 1,
      "outputs": [
        {
          "output_type": "execute_result",
          "data": {
            "text/plain": [
              "(array([1., 2., 3., 4., 5., 6., 7.]),\n",
              " tensor([1., 2., 3., 4., 5., 6., 7.], dtype=torch.float64))"
            ]
          },
          "metadata": {},
          "execution_count": 1
        }
      ]
    },
    {
      "cell_type": "code",
      "source": [
        "import torch\n",
        "import random\n",
        "\n",
        "# # Set the random seed\n",
        "RANDOM_SEED=42 # try changing this to different values and see what happens to the numbers below\n",
        "torch.manual_seed(seed=RANDOM_SEED)\n",
        "random_tensor_C = torch.rand(3, 4)\n",
        "\n",
        "# Have to reset the seed every time a new rand() is called\n",
        "# Without this, tensor_D would be different to tensor_C\n",
        "torch.random.manual_seed(seed=RANDOM_SEED) # try commenting this line out and seeing what happens\n",
        "random_tensor_D = torch.rand(3, 4)\n",
        "\n",
        "print(f\"Tensor C:\\n{random_tensor_C}\\n\")\n",
        "print(f\"Tensor D:\\n{random_tensor_D}\\n\")\n",
        "print(f\"Does Tensor C equal Tensor D? (anywhere)\")\n",
        "random_tensor_C == random_tensor_D"
      ],
      "metadata": {
        "colab": {
          "base_uri": "https://localhost:8080/"
        },
        "id": "1Oa90M7Tlc7P",
        "outputId": "93897213-1d1d-49f7-c2b3-b67752b2b30d"
      },
      "execution_count": 3,
      "outputs": [
        {
          "output_type": "stream",
          "name": "stdout",
          "text": [
            "Tensor C:\n",
            "tensor([[0.8823, 0.9150, 0.3829, 0.9593],\n",
            "        [0.3904, 0.6009, 0.2566, 0.7936],\n",
            "        [0.9408, 0.1332, 0.9346, 0.5936]])\n",
            "\n",
            "Tensor D:\n",
            "tensor([[0.8694, 0.5677, 0.7411, 0.4294],\n",
            "        [0.8854, 0.5739, 0.2666, 0.6274],\n",
            "        [0.2696, 0.4414, 0.2969, 0.8317]])\n",
            "\n",
            "Does Tensor C equal Tensor D? (anywhere)\n"
          ]
        },
        {
          "output_type": "execute_result",
          "data": {
            "text/plain": [
              "tensor([[False, False, False, False],\n",
              "        [False, False, False, False],\n",
              "        [False, False, False, False]])"
            ]
          },
          "metadata": {},
          "execution_count": 3
        }
      ]
    },
    {
      "cell_type": "code",
      "source": [
        "# Check for GPU\n",
        "import torch\n",
        "torch.cuda.is_available()"
      ],
      "metadata": {
        "colab": {
          "base_uri": "https://localhost:8080/"
        },
        "id": "7N-EZL75l553",
        "outputId": "d9f82953-135d-46b5-cebe-7c814f3f27da"
      },
      "execution_count": 1,
      "outputs": [
        {
          "output_type": "execute_result",
          "data": {
            "text/plain": [
              "True"
            ]
          },
          "metadata": {},
          "execution_count": 1
        }
      ]
    },
    {
      "cell_type": "code",
      "source": [
        "# Set device type\n",
        "device = \"cuda\" if torch.cuda.is_available() else \"cpu\"\n",
        "device\n",
        "\n",
        "# Count number of devices\n",
        "torch.cuda.device_count()"
      ],
      "metadata": {
        "colab": {
          "base_uri": "https://localhost:8080/"
        },
        "id": "0dWJDZVpmECG",
        "outputId": "fa4558e3-5c71-48b2-f5f3-79592845d639"
      },
      "execution_count": 2,
      "outputs": [
        {
          "output_type": "execute_result",
          "data": {
            "text/plain": [
              "1"
            ]
          },
          "metadata": {},
          "execution_count": 2
        }
      ]
    },
    {
      "cell_type": "code",
      "source": [
        "# Create tensor (default on CPU)\n",
        "tensor = torch.tensor([1, 2, 3])\n",
        "\n",
        "# Tensor not on GPU\n",
        "print(tensor, tensor.device)\n",
        "\n",
        "# Move tensor to GPU (if available)\n",
        "tensor_on_gpu = tensor.to(device)\n",
        "tensor_on_gpu\n",
        "\n",
        "# If tensor is on GPU, can't transform it to NumPy (this will error)\n",
        "tensor_on_gpu.numpy()"
      ],
      "metadata": {
        "colab": {
          "base_uri": "https://localhost:8080/",
          "height": 227
        },
        "id": "lsYyfKi9okLP",
        "outputId": "7a29c64b-3787-43c6-d0c7-64de00e04bbc"
      },
      "execution_count": 4,
      "outputs": [
        {
          "output_type": "stream",
          "name": "stdout",
          "text": [
            "tensor([1, 2, 3]) cpu\n"
          ]
        },
        {
          "output_type": "error",
          "ename": "TypeError",
          "evalue": "ignored",
          "traceback": [
            "\u001b[0;31m---------------------------------------------------------------------------\u001b[0m",
            "\u001b[0;31mTypeError\u001b[0m                                 Traceback (most recent call last)",
            "\u001b[0;32m<ipython-input-4-a46267ab1bfb>\u001b[0m in \u001b[0;36m<cell line: 12>\u001b[0;34m()\u001b[0m\n\u001b[1;32m     10\u001b[0m \u001b[0;34m\u001b[0m\u001b[0m\n\u001b[1;32m     11\u001b[0m \u001b[0;31m# If tensor is on GPU, can't transform it to NumPy (this will error)\u001b[0m\u001b[0;34m\u001b[0m\u001b[0;34m\u001b[0m\u001b[0m\n\u001b[0;32m---> 12\u001b[0;31m \u001b[0mtensor_on_gpu\u001b[0m\u001b[0;34m.\u001b[0m\u001b[0mnumpy\u001b[0m\u001b[0;34m(\u001b[0m\u001b[0;34m)\u001b[0m\u001b[0;34m\u001b[0m\u001b[0;34m\u001b[0m\u001b[0m\n\u001b[0m",
            "\u001b[0;31mTypeError\u001b[0m: can't convert cuda:0 device type tensor to numpy. Use Tensor.cpu() to copy the tensor to host memory first."
          ]
        }
      ]
    },
    {
      "cell_type": "code",
      "source": [
        "# Instead, copy the tensor back to cpu\n",
        "tensor_back_on_cpu = tensor_on_gpu.cpu().numpy()\n",
        "tensor_back_on_cpu"
      ],
      "metadata": {
        "colab": {
          "base_uri": "https://localhost:8080/"
        },
        "id": "o6YRFftfpFHn",
        "outputId": "f6207350-ae2a-4981-a38f-39096360b239"
      },
      "execution_count": 5,
      "outputs": [
        {
          "output_type": "execute_result",
          "data": {
            "text/plain": [
              "array([1, 2, 3])"
            ]
          },
          "metadata": {},
          "execution_count": 5
        }
      ]
    }
  ]
}