{
  "nbformat": 4,
  "nbformat_minor": 0,
  "metadata": {
    "colab": {
      "provenance": [],
      "gpuType": "T4",
      "authorship_tag": "ABX9TyOUuDMZEmpAD+YM7f+i2vnv",
      "include_colab_link": true
    },
    "kernelspec": {
      "name": "python3",
      "display_name": "Python 3"
    },
    "language_info": {
      "name": "python"
    },
    "accelerator": "GPU"
  },
  "cells": [
    {
      "cell_type": "markdown",
      "metadata": {
        "id": "view-in-github",
        "colab_type": "text"
      },
      "source": [
        "<a href=\"https://colab.research.google.com/github/toriqultonu/Learning_PyTorch/blob/main/00_pytorch_fundamentals.ipynb\" target=\"_parent\"><img src=\"https://colab.research.google.com/assets/colab-badge.svg\" alt=\"Open In Colab\"/></a>"
      ]
    },
    {
      "cell_type": "code",
      "execution_count": null,
      "metadata": {
        "id": "Hh2o7akzUjGE"
      },
      "outputs": [],
      "source": [
        "!nvidia-smi"
      ]
    },
    {
      "cell_type": "code",
      "source": [
        "import torch\n",
        "print(torch.__version__)"
      ],
      "metadata": {
        "colab": {
          "base_uri": "https://localhost:8080/"
        },
        "id": "PG4LSxMxW3Eb",
        "outputId": "de6f3f1a-b3e7-4ead-d77c-64a5464e8ebf"
      },
      "execution_count": null,
      "outputs": [
        {
          "output_type": "stream",
          "name": "stdout",
          "text": [
            "2.0.1+cu118\n"
          ]
        }
      ]
    },
    {
      "cell_type": "markdown",
      "source": [
        "## Introduction to Tensors\n",
        "\n",
        "### Creating Tensors"
      ],
      "metadata": {
        "id": "TWocFK67d-Ie"
      }
    },
    {
      "cell_type": "code",
      "source": [
        "# scalar\n",
        " scalar = torch.tensor()\n",
        " print(scalar)"
      ],
      "metadata": {
        "colab": {
          "base_uri": "https://localhost:8080/",
          "height": 140
        },
        "id": "ylBT5rQ0eX6m",
        "outputId": "e1446250-5efe-4e0d-fa32-72d510859802"
      },
      "execution_count": null,
      "outputs": [
        {
          "output_type": "error",
          "ename": "IndentationError",
          "evalue": "ignored",
          "traceback": [
            "\u001b[0;36m  File \u001b[0;32m\"<ipython-input-3-3923fe1b4684>\"\u001b[0;36m, line \u001b[0;32m2\u001b[0m\n\u001b[0;31m    scalar = torch.tensor()\u001b[0m\n\u001b[0m    ^\u001b[0m\n\u001b[0;31mIndentationError\u001b[0m\u001b[0;31m:\u001b[0m unexpected indent\n"
          ]
        }
      ]
    },
    {
      "cell_type": "code",
      "source": [
        "random_tensor = torch.rand(2,4,3,4)\n",
        "random_tensor"
      ],
      "metadata": {
        "colab": {
          "base_uri": "https://localhost:8080/"
        },
        "id": "u1263NNbByN5",
        "outputId": "9a0e6f91-7bba-466b-c950-5979170ef728"
      },
      "execution_count": null,
      "outputs": [
        {
          "output_type": "execute_result",
          "data": {
            "text/plain": [
              "tensor([[[[0.8107, 0.4374, 0.2287, 0.1210],\n",
              "          [0.1260, 0.6701, 0.9493, 0.1420],\n",
              "          [0.7225, 0.0307, 0.4201, 0.9401]],\n",
              "\n",
              "         [[0.5835, 0.4570, 0.8793, 0.0979],\n",
              "          [0.4530, 0.5529, 0.4831, 0.4375],\n",
              "          [0.4285, 0.5771, 0.5988, 0.8437]],\n",
              "\n",
              "         [[0.1241, 0.2542, 0.3048, 0.7503],\n",
              "          [0.6805, 0.0826, 0.6070, 0.8667],\n",
              "          [0.3759, 0.3753, 0.5440, 0.0715]],\n",
              "\n",
              "         [[0.3178, 0.1989, 0.4551, 0.0533],\n",
              "          [0.8516, 0.4638, 0.3067, 0.5018],\n",
              "          [0.7799, 0.4538, 0.4601, 0.7630]]],\n",
              "\n",
              "\n",
              "        [[[0.0461, 0.2342, 0.1031, 0.0510],\n",
              "          [0.9846, 0.8701, 0.1806, 0.3378],\n",
              "          [0.8251, 0.3542, 0.4719, 0.1144]],\n",
              "\n",
              "         [[0.9410, 0.7185, 0.2879, 0.2855],\n",
              "          [0.4535, 0.1541, 0.1792, 0.3542],\n",
              "          [0.4952, 0.3993, 0.1343, 0.2014]],\n",
              "\n",
              "         [[0.2898, 0.7434, 0.5325, 0.1713],\n",
              "          [0.5875, 0.2599, 0.4046, 0.9781],\n",
              "          [0.5132, 0.9432, 0.1854, 0.8241]],\n",
              "\n",
              "         [[0.2528, 0.2879, 0.9615, 0.7533],\n",
              "          [0.4159, 0.8007, 0.9377, 0.4792],\n",
              "          [0.7488, 0.5440, 0.7967, 0.6693]]]])"
            ]
          },
          "metadata": {},
          "execution_count": 3
        }
      ]
    },
    {
      "cell_type": "code",
      "source": [
        "zeros = torch.zeros(4,3)\n",
        "zeros"
      ],
      "metadata": {
        "colab": {
          "base_uri": "https://localhost:8080/"
        },
        "id": "DmvAEN0nDZCe",
        "outputId": "58ef987c-7190-44a1-a8c3-99439e8e4eda"
      },
      "execution_count": null,
      "outputs": [
        {
          "output_type": "execute_result",
          "data": {
            "text/plain": [
              "tensor([[0., 0., 0.],\n",
              "        [0., 0., 0.],\n",
              "        [0., 0., 0.],\n",
              "        [0., 0., 0.]])"
            ]
          },
          "metadata": {},
          "execution_count": 6
        }
      ]
    },
    {
      "cell_type": "code",
      "source": [
        "ones = torch.ones(3,4)\n",
        "ones"
      ],
      "metadata": {
        "colab": {
          "base_uri": "https://localhost:8080/"
        },
        "id": "ws00ud5HDx5y",
        "outputId": "054cba6a-4ed9-4f98-d01e-9ec9d185eca1"
      },
      "execution_count": null,
      "outputs": [
        {
          "output_type": "execute_result",
          "data": {
            "text/plain": [
              "tensor([[1., 1., 1., 1.],\n",
              "        [1., 1., 1., 1.],\n",
              "        [1., 1., 1., 1.]])"
            ]
          },
          "metadata": {},
          "execution_count": 8
        }
      ]
    },
    {
      "cell_type": "code",
      "source": [
        "one_to_number = torch.arange(start = 0, end = 1000, step=100)\n",
        "print(one_to_number)\n",
        "\n",
        "ten_zeros = torch.zeros_like(input = one_to_number)\n",
        "ten_zeros"
      ],
      "metadata": {
        "colab": {
          "base_uri": "https://localhost:8080/"
        },
        "id": "1hegKgnRF39t",
        "outputId": "7ac91ca4-e490-431a-9999-349a5435239c"
      },
      "execution_count": null,
      "outputs": [
        {
          "output_type": "stream",
          "name": "stdout",
          "text": [
            "tensor([  0, 100, 200, 300, 400, 500, 600, 700, 800, 900])\n"
          ]
        },
        {
          "output_type": "execute_result",
          "data": {
            "text/plain": [
              "tensor([0, 0, 0, 0, 0, 0, 0, 0, 0, 0])"
            ]
          },
          "metadata": {},
          "execution_count": 12
        }
      ]
    },
    {
      "cell_type": "code",
      "source": [],
      "metadata": {
        "id": "SJXiwrTzX9bv"
      },
      "execution_count": null,
      "outputs": []
    }
  ]
}